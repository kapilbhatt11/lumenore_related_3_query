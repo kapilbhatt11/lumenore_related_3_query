{
 "cells": [
  {
   "cell_type": "markdown",
   "id": "20d2b062",
   "metadata": {},
   "source": [
    "## Creating Query "
   ]
  },
  {
   "cell_type": "code",
   "execution_count": 109,
   "id": "0abdf944",
   "metadata": {},
   "outputs": [
    {
     "name": "stdout",
     "output_type": "stream",
     "text": [
      "46\n",
      "['what is sales by categories', 'what is sales by state', 'what is sales by region city', 'what is sales by region', 'what is sales by shipping_date', 'what is sales by shipping_date with month', 'what is sales by shipping_date with day', 'what is sales by shipping_date with week', 'what is sales by shipping_date with year', 'what is sales by order_date', 'what is sales by order_date with month', 'what is sales by order_date with day', 'what is sales by order_date with week', 'what is sales by order_date with year', 'what is profit by categories', 'what is profit by state', 'what is profit by region city', 'what is profit by region', 'what is profit by shipping_date', 'what is profit by shipping_date with month', 'what is profit by shipping_date with day', 'what is profit by shipping_date with week', 'what is profit by shipping_date with year', 'what is profit by order_date', 'what is profit by order_date with month', 'what is profit by order_date with day', 'what is profit by order_date with week', 'what is profit by order_date with year', 'what is discount by categories', 'what is discount by state', 'what is discount by region city', 'what is discount by region', 'what is discount by shipping_date', 'what is discount by shipping_date with month', 'what is discount by shipping_date with day', 'what is discount by shipping_date with week', 'what is discount by shipping_date with year', 'what is discount by order_date', 'what is discount by order_date with month', 'what is discount by order_date with day', 'what is discount by order_date with week', 'what is discount by order_date with year', 'what is sales profit by categories', 'what is sales profit by shipping_date', 'what is profit discount by state', 'what is profit discount by order_date']\n"
     ]
    }
   ],
   "source": [
    "measure = ['sales','profit','discount']\n",
    "date_dim = ['shipping_date','order_date']\n",
    "dimension = ['categories','state','region']\n",
    "tm = ['month','day','week','year']\n",
    "\n",
    "query = []\n",
    "\n",
    "for i in measure:\n",
    "    # for j in measure:\n",
    "    #     if i==j:\n",
    "    #          continue\n",
    "    #     query.append(f\"what is {i} by {j}\")\n",
    "\n",
    "    for j in dimension:\n",
    "        if j=='region':\n",
    "            query.append(f\"what is {i} by {j} city\")\n",
    "        query.append(f\"what is {i} by {j}\")\n",
    "\n",
    "    for j in date_dim:\n",
    "        query.append(f\"what is {i} by {j}\")\n",
    "        for k in tm:\n",
    "            query.append(f\"what is {i} by {j} with {k}\")\n",
    "\n",
    "for i in range(len(measure)-1):\n",
    "    query.append(f\"what is {measure[i]} {measure[i+1]} by {dimension[i]}\")\n",
    "    query.append(f\"what is {measure[i]} {measure[i+1]} by {date_dim[i]}\")\n",
    "\n",
    "print(len(query))\n",
    "print((query))"
   ]
  },
  {
   "cell_type": "markdown",
   "id": "147e5c56",
   "metadata": {},
   "source": [
    "## converting in vector "
   ]
  },
  {
   "cell_type": "code",
   "execution_count": 151,
   "id": "28f13f24",
   "metadata": {},
   "outputs": [],
   "source": [
    "from sent2vec.vectorizer import Vectorizer"
   ]
  },
  {
   "cell_type": "code",
   "execution_count": 152,
   "id": "a85c9b68",
   "metadata": {},
   "outputs": [
    {
     "name": "stdout",
     "output_type": "stream",
     "text": [
      "Initializing Bert distilbert-base-uncased\n",
      "Vectorization done on cpu\n"
     ]
    },
    {
     "name": "stderr",
     "output_type": "stream",
     "text": [
      "Some weights of the model checkpoint at distilbert-base-uncased were not used when initializing DistilBertModel: ['vocab_projector.bias', 'vocab_transform.weight', 'vocab_layer_norm.weight', 'vocab_layer_norm.bias', 'vocab_projector.weight', 'vocab_transform.bias']\n",
      "- This IS expected if you are initializing DistilBertModel from the checkpoint of a model trained on another task or with another architecture (e.g. initializing a BertForSequenceClassification model from a BertForPreTraining model).\n",
      "- This IS NOT expected if you are initializing DistilBertModel from the checkpoint of a model that you expect to be exactly identical (initializing a BertForSequenceClassification model from a BertForSequenceClassification model).\n"
     ]
    }
   ],
   "source": [
    "vectorizer = Vectorizer()\n",
    "vectorizer.run(query, remove_stop_words = [\"what\",\"is\",'by'], add_stop_words = [])\n",
    "vectors = vectorizer.vectors"
   ]
  },
  {
   "cell_type": "code",
   "execution_count": 153,
   "id": "e3366ccc",
   "metadata": {},
   "outputs": [
    {
     "data": {
      "text/plain": [
       "46"
      ]
     },
     "execution_count": 153,
     "metadata": {},
     "output_type": "execute_result"
    }
   ],
   "source": [
    "len(vectors)"
   ]
  },
  {
   "cell_type": "markdown",
   "id": "b511a7a6",
   "metadata": {},
   "source": [
    "## ** user query **"
   ]
  },
  {
   "cell_type": "code",
   "execution_count": 220,
   "id": "f3db4d8f",
   "metadata": {},
   "outputs": [],
   "source": [
    "# new = [\"what is product by region\"]\n",
    "new = [\"what is discount by state\"]\n",
    "# new = [\"what is discount by categories\"]\n",
    "# new = [\"what is sale by region\"]"
   ]
  },
  {
   "cell_type": "code",
   "execution_count": 221,
   "id": "f9522038",
   "metadata": {},
   "outputs": [
    {
     "name": "stdout",
     "output_type": "stream",
     "text": [
      "Initializing Bert distilbert-base-uncased\n",
      "Vectorization done on cpu\n"
     ]
    },
    {
     "name": "stderr",
     "output_type": "stream",
     "text": [
      "Some weights of the model checkpoint at distilbert-base-uncased were not used when initializing DistilBertModel: ['vocab_projector.bias', 'vocab_transform.weight', 'vocab_layer_norm.weight', 'vocab_layer_norm.bias', 'vocab_projector.weight', 'vocab_transform.bias']\n",
      "- This IS expected if you are initializing DistilBertModel from the checkpoint of a model trained on another task or with another architecture (e.g. initializing a BertForSequenceClassification model from a BertForPreTraining model).\n",
      "- This IS NOT expected if you are initializing DistilBertModel from the checkpoint of a model that you expect to be exactly identical (initializing a BertForSequenceClassification model from a BertForSequenceClassification model).\n"
     ]
    }
   ],
   "source": [
    "vectorizer = Vectorizer()\n",
    "vectorizer.run(new, remove_stop_words = [\"what\",\"is\",\"by\"], add_stop_words = [])\n",
    "new_sentance = vectorizer.vectors"
   ]
  },
  {
   "cell_type": "code",
   "execution_count": 222,
   "id": "7034091c",
   "metadata": {},
   "outputs": [
    {
     "data": {
      "text/plain": [
       "1"
      ]
     },
     "execution_count": 222,
     "metadata": {},
     "output_type": "execute_result"
    }
   ],
   "source": [
    "len(new_sentance)"
   ]
  },
  {
   "cell_type": "markdown",
   "id": "099775fd",
   "metadata": {},
   "source": [
    "## finding cosine similarity"
   ]
  },
  {
   "cell_type": "code",
   "execution_count": 223,
   "id": "3eab0c54",
   "metadata": {},
   "outputs": [],
   "source": [
    "from scipy import spatial\n",
    "\n",
    "com = []\n",
    "for i in vectors:\n",
    "    dist_1 = spatial.distance.cosine(new_sentance[0], i)\n",
    "    com.append(dist_1)"
   ]
  },
  {
   "cell_type": "code",
   "execution_count": 224,
   "id": "863654d5",
   "metadata": {},
   "outputs": [],
   "source": [
    "new = list(enumerate(com, start=0))"
   ]
  },
  {
   "cell_type": "code",
   "execution_count": 225,
   "id": "85304b9b",
   "metadata": {},
   "outputs": [],
   "source": [
    "list2 = sorted(new, key=lambda x:x[1])"
   ]
  },
  {
   "cell_type": "code",
   "execution_count": 227,
   "id": "2b54587a",
   "metadata": {},
   "outputs": [
    {
     "data": {
      "text/plain": [
       "[(7, 0.04451209306716919), (5, 0.04660981893539429), (8, 0.048505425453186035)]"
      ]
     },
     "execution_count": 227,
     "metadata": {},
     "output_type": "execute_result"
    }
   ],
   "source": [
    "list2[-3:]"
   ]
  },
  {
   "cell_type": "markdown",
   "id": "19610762",
   "metadata": {},
   "source": [
    "## most related question"
   ]
  },
  {
   "cell_type": "code",
   "execution_count": 228,
   "id": "b0ef98aa",
   "metadata": {},
   "outputs": [
    {
     "data": {
      "text/plain": [
       "('what is sales by shipping_date with year',\n",
       " 'what is sales by shipping_date with month',\n",
       " 'what is sales by shipping_date with week')"
      ]
     },
     "execution_count": 228,
     "metadata": {},
     "output_type": "execute_result"
    }
   ],
   "source": [
    "query[list2[-1][0]],query[list2[-2][0]],query[list2[-3][0]]"
   ]
  },
  {
   "cell_type": "code",
   "execution_count": 208,
   "id": "68a45285",
   "metadata": {},
   "outputs": [
    {
     "data": {
      "text/plain": [
       "'what is sales by region city'"
      ]
     },
     "execution_count": 208,
     "metadata": {},
     "output_type": "execute_result"
    }
   ],
   "source": [
    "query[2]"
   ]
  },
  {
   "cell_type": "code",
   "execution_count": 209,
   "id": "925f61de",
   "metadata": {},
   "outputs": [
    {
     "data": {
      "text/plain": [
       "'what is discount by region city'"
      ]
     },
     "execution_count": 209,
     "metadata": {},
     "output_type": "execute_result"
    }
   ],
   "source": [
    "query[30]"
   ]
  },
  {
   "cell_type": "code",
   "execution_count": 210,
   "id": "326abc84",
   "metadata": {},
   "outputs": [
    {
     "data": {
      "text/plain": [
       "'what is sales by region city'"
      ]
     },
     "execution_count": 210,
     "metadata": {},
     "output_type": "execute_result"
    }
   ],
   "source": [
    "query[2]"
   ]
  },
  {
   "cell_type": "code",
   "execution_count": null,
   "id": "fe299f33",
   "metadata": {},
   "outputs": [],
   "source": []
  }
 ],
 "metadata": {
  "kernelspec": {
   "display_name": "Python 3 (ipykernel)",
   "language": "python",
   "name": "python3"
  },
  "language_info": {
   "codemirror_mode": {
    "name": "ipython",
    "version": 3
   },
   "file_extension": ".py",
   "mimetype": "text/x-python",
   "name": "python",
   "nbconvert_exporter": "python",
   "pygments_lexer": "ipython3",
   "version": "3.9.13"
  }
 },
 "nbformat": 4,
 "nbformat_minor": 5
}
