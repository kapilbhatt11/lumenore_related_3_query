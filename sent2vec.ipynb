{
 "cells": [
  {
   "cell_type": "markdown",
   "id": "192b406b",
   "metadata": {},
   "source": [
    "## Creating Query "
   ]
  },
  {
   "cell_type": "code",
   "execution_count": 15,
   "id": "49cb1d55",
   "metadata": {},
   "outputs": [
    {
     "name": "stdout",
     "output_type": "stream",
     "text": [
      "46\n",
      "['what is sales by categories', 'what is sales by state', 'what is sales by region city', 'what is sales by region', 'what is sales by shipping_date', 'what is sales by shipping_date with month', 'what is sales by shipping_date with day', 'what is sales by shipping_date with week', 'what is sales by shipping_date with year', 'what is sales by order_date', 'what is sales by order_date with month', 'what is sales by order_date with day', 'what is sales by order_date with week', 'what is sales by order_date with year', 'what is profit by categories', 'what is profit by state', 'what is profit by region city', 'what is profit by region', 'what is profit by shipping_date', 'what is profit by shipping_date with month', 'what is profit by shipping_date with day', 'what is profit by shipping_date with week', 'what is profit by shipping_date with year', 'what is profit by order_date', 'what is profit by order_date with month', 'what is profit by order_date with day', 'what is profit by order_date with week', 'what is profit by order_date with year', 'what is discount by categories', 'what is discount by state', 'what is discount by region city', 'what is discount by region', 'what is discount by shipping_date', 'what is discount by shipping_date with month', 'what is discount by shipping_date with day', 'what is discount by shipping_date with week', 'what is discount by shipping_date with year', 'what is discount by order_date', 'what is discount by order_date with month', 'what is discount by order_date with day', 'what is discount by order_date with week', 'what is discount by order_date with year', 'what is sales profit by categories', 'what is sales profit by shipping_date', 'what is profit discount by state', 'what is profit discount by order_date']\n"
     ]
    }
   ],
   "source": [
    "measure = ['sales','profit','discount']\n",
    "date_dim = ['shipping_date','order_date']\n",
    "dimension = ['categories','state','region']\n",
    "tm = ['month','day','week','year']\n",
    "\n",
    "query = []\n",
    "\n",
    "for i in measure:\n",
    "    # for j in measure:\n",
    "    #     if i==j:\n",
    "    #          continue\n",
    "    #     query.append(f\"what is {i} by {j}\")\n",
    "\n",
    "    for j in dimension:\n",
    "        if j=='region':\n",
    "            query.append(f\"what is {i} by {j} city\")\n",
    "        query.append(f\"what is {i} by {j}\")\n",
    "\n",
    "    for j in date_dim:\n",
    "        query.append(f\"what is {i} by {j}\")\n",
    "        for k in tm:\n",
    "            query.append(f\"what is {i} by {j} with {k}\")\n",
    "\n",
    "for i in range(len(measure)-1):\n",
    "    query.append(f\"what is {measure[i]} {measure[i+1]} by {dimension[i]}\")\n",
    "    query.append(f\"what is {measure[i]} {measure[i+1]} by {date_dim[i]}\")\n",
    "\n",
    "print(len(query))\n",
    "print((query))"
   ]
  },
  {
   "cell_type": "markdown",
   "id": "9d61f594",
   "metadata": {},
   "source": [
    "## converting in vector "
   ]
  },
  {
   "cell_type": "code",
   "execution_count": 16,
   "id": "f9e63525",
   "metadata": {},
   "outputs": [],
   "source": [
    "from sent2vec.vectorizer import Vectorizer"
   ]
  },
  {
   "cell_type": "code",
   "execution_count": 17,
   "id": "0a157bb7",
   "metadata": {},
   "outputs": [
    {
     "name": "stdout",
     "output_type": "stream",
     "text": [
      "Initializing Bert distilbert-base-uncased\n",
      "Vectorization done on cpu\n"
     ]
    },
    {
     "name": "stderr",
     "output_type": "stream",
     "text": [
      "Some weights of the model checkpoint at distilbert-base-uncased were not used when initializing DistilBertModel: ['vocab_transform.bias', 'vocab_layer_norm.bias', 'vocab_transform.weight', 'vocab_projector.bias', 'vocab_layer_norm.weight', 'vocab_projector.weight']\n",
      "- This IS expected if you are initializing DistilBertModel from the checkpoint of a model trained on another task or with another architecture (e.g. initializing a BertForSequenceClassification model from a BertForPreTraining model).\n",
      "- This IS NOT expected if you are initializing DistilBertModel from the checkpoint of a model that you expect to be exactly identical (initializing a BertForSequenceClassification model from a BertForSequenceClassification model).\n"
     ]
    }
   ],
   "source": [
    "vectorizer = Vectorizer()\n",
    "vectorizer.run(query, remove_stop_words = [\"what\",\"is\",\"by\"], add_stop_words = [])\n",
    "vectors = vectorizer.vectors"
   ]
  },
  {
   "cell_type": "code",
   "execution_count": 18,
   "id": "0631c570",
   "metadata": {},
   "outputs": [],
   "source": [
    "# vectors[:2]"
   ]
  },
  {
   "cell_type": "markdown",
   "id": "ad965242",
   "metadata": {},
   "source": [
    "## ** user query **"
   ]
  },
  {
   "cell_type": "code",
   "execution_count": 19,
   "id": "e6b67767",
   "metadata": {},
   "outputs": [],
   "source": [
    "# new = [\"what is product by region\"]\n",
    "# new = [\"what is discount by state\"]\n",
    "new = [\"what is discount by categories\"]\n",
    "# new = [\"what is sales by region\"]"
   ]
  },
  {
   "cell_type": "code",
   "execution_count": 20,
   "id": "80ededef",
   "metadata": {},
   "outputs": [],
   "source": [
    "vectorizer.run(new, remove_stop_words = [\"what\",\"is\",\"by\"], add_stop_words = [])\n",
    "new_sentance = vectorizer.vectors"
   ]
  },
  {
   "cell_type": "code",
   "execution_count": 21,
   "id": "c10b6cde",
   "metadata": {},
   "outputs": [
    {
     "data": {
      "text/plain": [
       "47"
      ]
     },
     "execution_count": 21,
     "metadata": {},
     "output_type": "execute_result"
    }
   ],
   "source": [
    "len(new_sentance)"
   ]
  },
  {
   "cell_type": "markdown",
   "id": "65070e6e",
   "metadata": {},
   "source": [
    "## finding similarity with euclidean"
   ]
  },
  {
   "cell_type": "code",
   "execution_count": 22,
   "id": "6b0e21de",
   "metadata": {},
   "outputs": [],
   "source": [
    "from scipy import spatial\n",
    "\n",
    "com = []\n",
    "for i in vectors:\n",
    "    dist_1 = spatial.distance.euclidean(new_sentance[0], i)\n",
    "    com.append(dist_1)"
   ]
  },
  {
   "cell_type": "code",
   "execution_count": 23,
   "id": "3f2e093a",
   "metadata": {},
   "outputs": [],
   "source": [
    "new = list(enumerate(com, start=0))"
   ]
  },
  {
   "cell_type": "code",
   "execution_count": 24,
   "id": "94461229",
   "metadata": {},
   "outputs": [],
   "source": [
    "list2 = sorted(new, key=lambda x:x[1])"
   ]
  },
  {
   "cell_type": "code",
   "execution_count": 25,
   "id": "d811de99",
   "metadata": {},
   "outputs": [
    {
     "data": {
      "text/plain": [
       "[(0, 0.0),\n",
       " (14, 0.990826427936554),\n",
       " (31, 1.2039018869400024),\n",
       " (1, 1.2114295959472656),\n",
       " (3, 1.2529727220535278),\n",
       " (29, 1.2926822900772095),\n",
       " (17, 1.3341524600982666),\n",
       " (15, 1.4126794338226318),\n",
       " (42, 1.4923810958862305),\n",
       " (28, 1.5131787061691284),\n",
       " (16, 1.8012011051177979),\n",
       " (30, 1.9044814109802246),\n",
       " (2, 1.9142827987670898),\n",
       " (18, 1.9291095733642578),\n",
       " (23, 1.9608612060546875),\n",
       " (9, 1.9627084732055664),\n",
       " (4, 2.0760130882263184),\n",
       " (37, 2.1030588150024414),\n",
       " (32, 2.1159720420837402),\n",
       " (44, 2.1242125034332275),\n",
       " (46, 2.4183056354522705),\n",
       " (26, 2.930262327194214),\n",
       " (25, 3.003580331802368),\n",
       " (43, 3.014971971511841),\n",
       " (21, 3.028049945831299),\n",
       " (20, 3.144655227661133),\n",
       " (40, 3.28621768951416),\n",
       " (27, 3.28910756111145),\n",
       " (34, 3.3134634494781494),\n",
       " (24, 3.326195240020752),\n",
       " (41, 3.3284616470336914),\n",
       " (39, 3.3292081356048584),\n",
       " (45, 3.334542751312256),\n",
       " (35, 3.357123613357544),\n",
       " (11, 3.366156816482544),\n",
       " (13, 3.487971305847168),\n",
       " (6, 3.503955364227295),\n",
       " (12, 3.522394895553589),\n",
       " (19, 3.5275425910949707),\n",
       " (36, 3.541320562362671),\n",
       " (22, 3.587449789047241),\n",
       " (7, 3.6257035732269287),\n",
       " (38, 3.636232852935791),\n",
       " (33, 3.662074327468872),\n",
       " (10, 3.6723151206970215),\n",
       " (8, 3.821110248565674),\n",
       " (5, 3.8701744079589844)]"
      ]
     },
     "execution_count": 25,
     "metadata": {},
     "output_type": "execute_result"
    }
   ],
   "source": [
    "list2"
   ]
  },
  {
   "cell_type": "markdown",
   "id": "53570d6f",
   "metadata": {},
   "source": [
    "## most related question"
   ]
  },
  {
   "cell_type": "code",
   "execution_count": 26,
   "id": "bed4e690",
   "metadata": {},
   "outputs": [
    {
     "data": {
      "text/plain": [
       "('what is sales by categories',\n",
       " 'what is profit by categories',\n",
       " 'what is discount by region')"
      ]
     },
     "execution_count": 26,
     "metadata": {},
     "output_type": "execute_result"
    }
   ],
   "source": [
    "query[list2[0][0]],query[list2[1][0]],query[list2[2][0]]"
   ]
  },
  {
   "cell_type": "markdown",
   "id": "a3211e26",
   "metadata": {},
   "source": [
    "## finding cosine similarity"
   ]
  },
  {
   "cell_type": "code",
   "execution_count": 27,
   "id": "1ca65a83",
   "metadata": {},
   "outputs": [],
   "source": [
    "from scipy import spatial\n",
    "\n",
    "com1 = []\n",
    "for i in vectors:\n",
    "    dist_1 = spatial.distance.cosine(new_sentance[0], i)\n",
    "    com1.append(dist_1)\n",
    "\n",
    "new1 = list(enumerate(com1, start=0))\n",
    "cos = sorted(new1, key=lambda x:x[1])"
   ]
  },
  {
   "cell_type": "code",
   "execution_count": 28,
   "id": "44f8b805",
   "metadata": {},
   "outputs": [
    {
     "data": {
      "text/plain": [
       "('what is sales by shipping_date with month',\n",
       " 'what is sales by shipping_date with year',\n",
       " 'what is discount by shipping_date with month')"
      ]
     },
     "execution_count": 28,
     "metadata": {},
     "output_type": "execute_result"
    }
   ],
   "source": [
    "query[cos[-1][0]],query[cos[-2][0]],query[cos[-3][0]]"
   ]
  },
  {
   "cell_type": "markdown",
   "id": "1a83ceb0",
   "metadata": {},
   "source": [
    "## Output\n",
    "\n",
    "**sent2vec Vectorizer is not giving desire result. i have tried to find the cosine similarity and euclidean distance between queries but it fail to generate the most related query** "
   ]
  },
  {
   "cell_type": "code",
   "execution_count": null,
   "id": "d3a4c052",
   "metadata": {},
   "outputs": [],
   "source": []
  },
  {
   "cell_type": "code",
   "execution_count": null,
   "id": "e7cc9a93",
   "metadata": {},
   "outputs": [],
   "source": []
  },
  {
   "cell_type": "code",
   "execution_count": null,
   "id": "c9fd436c",
   "metadata": {},
   "outputs": [],
   "source": []
  },
  {
   "cell_type": "code",
   "execution_count": null,
   "id": "98e970bb",
   "metadata": {},
   "outputs": [],
   "source": []
  },
  {
   "cell_type": "code",
   "execution_count": null,
   "id": "45ce8e91",
   "metadata": {},
   "outputs": [],
   "source": []
  },
  {
   "cell_type": "code",
   "execution_count": null,
   "id": "05d9fe45",
   "metadata": {},
   "outputs": [],
   "source": []
  },
  {
   "cell_type": "code",
   "execution_count": null,
   "id": "7f67167b",
   "metadata": {},
   "outputs": [],
   "source": []
  },
  {
   "cell_type": "code",
   "execution_count": null,
   "id": "9ad950b0",
   "metadata": {},
   "outputs": [],
   "source": []
  },
  {
   "cell_type": "code",
   "execution_count": null,
   "id": "5b28481d",
   "metadata": {},
   "outputs": [],
   "source": []
  },
  {
   "cell_type": "code",
   "execution_count": null,
   "id": "87dd0f92",
   "metadata": {},
   "outputs": [],
   "source": []
  },
  {
   "cell_type": "code",
   "execution_count": null,
   "id": "055d8152",
   "metadata": {},
   "outputs": [],
   "source": []
  },
  {
   "cell_type": "code",
   "execution_count": null,
   "id": "27832913",
   "metadata": {},
   "outputs": [],
   "source": []
  },
  {
   "cell_type": "code",
   "execution_count": null,
   "id": "0db78d76",
   "metadata": {},
   "outputs": [],
   "source": []
  },
  {
   "cell_type": "code",
   "execution_count": null,
   "id": "1cde9431",
   "metadata": {},
   "outputs": [],
   "source": []
  },
  {
   "cell_type": "code",
   "execution_count": null,
   "id": "8078c90c",
   "metadata": {},
   "outputs": [],
   "source": []
  },
  {
   "cell_type": "code",
   "execution_count": null,
   "id": "afa8891e",
   "metadata": {},
   "outputs": [],
   "source": []
  },
  {
   "cell_type": "code",
   "execution_count": null,
   "id": "522b1681",
   "metadata": {},
   "outputs": [],
   "source": []
  },
  {
   "cell_type": "code",
   "execution_count": null,
   "id": "2cda9218",
   "metadata": {},
   "outputs": [],
   "source": []
  },
  {
   "cell_type": "code",
   "execution_count": null,
   "id": "8070b3e5",
   "metadata": {},
   "outputs": [],
   "source": []
  }
 ],
 "metadata": {
  "kernelspec": {
   "display_name": "Python 3 (ipykernel)",
   "language": "python",
   "name": "python3"
  },
  "language_info": {
   "codemirror_mode": {
    "name": "ipython",
    "version": 3
   },
   "file_extension": ".py",
   "mimetype": "text/x-python",
   "name": "python",
   "nbconvert_exporter": "python",
   "pygments_lexer": "ipython3",
   "version": "3.9.13"
  }
 },
 "nbformat": 4,
 "nbformat_minor": 5
}
