{
 "cells": [
  {
   "cell_type": "markdown",
   "id": "2e2a7344",
   "metadata": {},
   "source": [
    "## Creating Query "
   ]
  },
  {
   "cell_type": "code",
   "execution_count": 90,
   "id": "afb38171",
   "metadata": {},
   "outputs": [
    {
     "name": "stdout",
     "output_type": "stream",
     "text": [
      "46\n"
     ]
    }
   ],
   "source": [
    "measure = ['sales','profit','discount']\n",
    "date_dim = ['shipping_date','order_date']\n",
    "dimension = ['categories','state','region']\n",
    "tm = ['month','day','week','year']\n",
    "\n",
    "query = []\n",
    "\n",
    "for i in measure:\n",
    "    # for j in measure:\n",
    "    #     if i==j:\n",
    "    #          continue\n",
    "    #     query.append(f\"what is {i} by {j}\")\n",
    "\n",
    "    for j in dimension:\n",
    "        if j=='region':\n",
    "            query.append(f\"what is {i} by {j} city\")\n",
    "        query.append(f\"what is {i} by {j}\")\n",
    "\n",
    "    for j in date_dim:\n",
    "        query.append(f\"what is {i} by {j}\")\n",
    "        for k in tm:\n",
    "            query.append(f\"what is {i} by {j} with {k}\")\n",
    "\n",
    "for i in range(len(measure)-1):\n",
    "    query.append(f\"what is {measure[i]} {measure[i+1]} by {dimension[i]}\")\n",
    "    query.append(f\"what is {measure[i]} {measure[i+1]} by {date_dim[i]}\")\n",
    "\n",
    "print(len(query))\n",
    "# print((query))"
   ]
  },
  {
   "cell_type": "code",
   "execution_count": null,
   "id": "34ec448f",
   "metadata": {},
   "outputs": [],
   "source": []
  },
  {
   "cell_type": "code",
   "execution_count": 91,
   "id": "bf0eea16",
   "metadata": {},
   "outputs": [],
   "source": [
    "sentence = ['what is sales by categories', 'what is sales by state', 'what is sales by region city', 'what is sales by region', \n",
    " 'what is sales by shipping_date', 'what is sales by shipping_date with month', 'what is sales by shipping_date with day', \n",
    " 'what is sales by shipping_date with week', 'what is sales by shipping_date with year', 'what is sales by order_date', \n",
    " 'what is sales by order_date with month', 'what is sales by order_date with day', 'what is sales by order_date with week',\n",
    " 'what is sales by order_date with year', 'what is profit by categories', 'what is profit by state', \n",
    " 'what is profit by region city', 'what is profit by region', 'what is profit by shipping_date', \n",
    " 'what is profit by shipping_date with month', 'what is profit by shipping_date with day', \n",
    " 'what is profit by shipping_date with week', 'what is profit by shipping_date with year', \n",
    " 'what is profit by order_date', 'what is profit by order_date with month', 'what is profit by order_date with day', \n",
    " 'what is profit by order_date with week', 'what is profit by order_date with year', 'what is discount by categories', \n",
    " 'what is discount by state', 'what is discount by region city', 'what is discount by region', \n",
    " 'what is discount by shipping_date', 'what is discount by shipping_date with month', \n",
    " 'what is discount by shipping_date with day', 'what is discount by shipping_date with week', \n",
    " 'what is discount by shipping_date with year', 'what is discount by order_date', \n",
    " 'what is discount by order_date with month', 'what is discount by order_date with day', \n",
    " 'what is discount by order_date with week', 'what is discount by order_date with year', \n",
    " 'what is sales profit by categories', 'what is sales profit by shipping_date', 'what is profit discount by state', \n",
    " 'what is profit discount by order_date']"
   ]
  },
  {
   "cell_type": "markdown",
   "id": "8bbcf6cb",
   "metadata": {},
   "source": [
    "## converting in vector"
   ]
  },
  {
   "cell_type": "code",
   "execution_count": 92,
   "id": "b5779c11",
   "metadata": {},
   "outputs": [],
   "source": [
    "from sklearn.feature_extraction.text import TfidfVectorizer"
   ]
  },
  {
   "cell_type": "code",
   "execution_count": 93,
   "id": "58398f44",
   "metadata": {},
   "outputs": [],
   "source": [
    "vectorizer = TfidfVectorizer()"
   ]
  },
  {
   "cell_type": "code",
   "execution_count": 94,
   "id": "9d599b0f",
   "metadata": {},
   "outputs": [],
   "source": [
    "X = vectorizer.fit_transform(sentence).toarray()"
   ]
  },
  {
   "cell_type": "code",
   "execution_count": 95,
   "id": "1f32ebb0",
   "metadata": {},
   "outputs": [
    {
     "data": {
      "text/plain": [
       "array(['by', 'categories', 'city', 'day', 'discount', 'is', 'month',\n",
       "       'order_date', 'profit', 'region', 'sales', 'shipping_date',\n",
       "       'state', 'week', 'what', 'with', 'year'], dtype=object)"
      ]
     },
     "execution_count": 95,
     "metadata": {},
     "output_type": "execute_result"
    }
   ],
   "source": [
    "vectorizer.get_feature_names_out()"
   ]
  },
  {
   "cell_type": "code",
   "execution_count": 96,
   "id": "7581af53",
   "metadata": {},
   "outputs": [
    {
     "data": {
      "text/plain": [
       "array([[0.23856755, 0.77312816, 0.        , 0.        , 0.        ,\n",
       "        0.23856755, 0.        , 0.        , 0.        , 0.        ,\n",
       "        0.48117506, 0.        , 0.        , 0.        , 0.23856755,\n",
       "        0.        , 0.        ],\n",
       "       [0.23856755, 0.        , 0.        , 0.        , 0.        ,\n",
       "        0.23856755, 0.        , 0.        , 0.        , 0.        ,\n",
       "        0.48117506, 0.        , 0.77312816, 0.        , 0.23856755,\n",
       "        0.        , 0.        ],\n",
       "       [0.1906894 , 0.        , 0.66052011, 0.        , 0.        ,\n",
       "        0.1906894 , 0.        , 0.        , 0.        , 0.55380731,\n",
       "        0.38460799, 0.        , 0.        , 0.        , 0.1906894 ,\n",
       "        0.        , 0.        ],\n",
       "       [0.2539788 , 0.        , 0.        , 0.        , 0.        ,\n",
       "        0.2539788 , 0.        , 0.        , 0.        , 0.73761474,\n",
       "        0.51225854, 0.        , 0.        , 0.        , 0.2539788 ,\n",
       "        0.        , 0.        ],\n",
       "       [0.29966392, 0.        , 0.        , 0.        , 0.        ,\n",
       "        0.29966392, 0.        , 0.        , 0.        , 0.        ,\n",
       "        0.60440243, 0.60440243, 0.        , 0.        , 0.29966392,\n",
       "        0.        , 0.        ],\n",
       "       [0.21208686, 0.        , 0.        , 0.        , 0.        ,\n",
       "        0.21208686, 0.61595059, 0.        , 0.        , 0.        ,\n",
       "        0.42776525, 0.42776525, 0.        , 0.        , 0.21208686,\n",
       "        0.3459713 , 0.        ],\n",
       "       [0.21208686, 0.        , 0.        , 0.61595059, 0.        ,\n",
       "        0.21208686, 0.        , 0.        , 0.        , 0.        ,\n",
       "        0.42776525, 0.42776525, 0.        , 0.        , 0.21208686,\n",
       "        0.3459713 , 0.        ],\n",
       "       [0.21208686, 0.        , 0.        , 0.        , 0.        ,\n",
       "        0.21208686, 0.        , 0.        , 0.        , 0.        ,\n",
       "        0.42776525, 0.42776525, 0.        , 0.61595059, 0.21208686,\n",
       "        0.3459713 , 0.        ],\n",
       "       [0.21208686, 0.        , 0.        , 0.        , 0.        ,\n",
       "        0.21208686, 0.        , 0.        , 0.        , 0.        ,\n",
       "        0.42776525, 0.42776525, 0.        , 0.        , 0.21208686,\n",
       "        0.3459713 , 0.61595059],\n",
       "       [0.29966392, 0.        , 0.        , 0.        , 0.        ,\n",
       "        0.29966392, 0.        , 0.60440243, 0.        , 0.        ,\n",
       "        0.60440243, 0.        , 0.        , 0.        , 0.29966392,\n",
       "        0.        , 0.        ],\n",
       "       [0.21208686, 0.        , 0.        , 0.        , 0.        ,\n",
       "        0.21208686, 0.61595059, 0.42776525, 0.        , 0.        ,\n",
       "        0.42776525, 0.        , 0.        , 0.        , 0.21208686,\n",
       "        0.3459713 , 0.        ],\n",
       "       [0.21208686, 0.        , 0.        , 0.61595059, 0.        ,\n",
       "        0.21208686, 0.        , 0.42776525, 0.        , 0.        ,\n",
       "        0.42776525, 0.        , 0.        , 0.        , 0.21208686,\n",
       "        0.3459713 , 0.        ],\n",
       "       [0.21208686, 0.        , 0.        , 0.        , 0.        ,\n",
       "        0.21208686, 0.        , 0.42776525, 0.        , 0.        ,\n",
       "        0.42776525, 0.        , 0.        , 0.61595059, 0.21208686,\n",
       "        0.3459713 , 0.        ],\n",
       "       [0.21208686, 0.        , 0.        , 0.        , 0.        ,\n",
       "        0.21208686, 0.        , 0.42776525, 0.        , 0.        ,\n",
       "        0.42776525, 0.        , 0.        , 0.        , 0.21208686,\n",
       "        0.3459713 , 0.61595059],\n",
       "       [0.24158589, 0.78290975, 0.        , 0.        , 0.        ,\n",
       "        0.24158589, 0.        , 0.        , 0.46039232, 0.        ,\n",
       "        0.        , 0.        , 0.        , 0.        , 0.24158589,\n",
       "        0.        , 0.        ],\n",
       "       [0.24158589, 0.        , 0.        , 0.        , 0.        ,\n",
       "        0.24158589, 0.        , 0.        , 0.46039232, 0.        ,\n",
       "        0.        , 0.        , 0.78290975, 0.        , 0.24158589,\n",
       "        0.        , 0.        ],\n",
       "       [0.19222028, 0.        , 0.66582282, 0.        , 0.        ,\n",
       "        0.19222028, 0.        , 0.        , 0.36631584, 0.55825332,\n",
       "        0.        , 0.        , 0.        , 0.        , 0.19222028,\n",
       "        0.        , 0.        ],\n",
       "       [0.25762998, 0.        , 0.        , 0.        , 0.        ,\n",
       "        0.25762998, 0.        , 0.        , 0.49096767, 0.74821863,\n",
       "        0.        , 0.        , 0.        , 0.        , 0.25762998,\n",
       "        0.        , 0.        ],\n",
       "       [0.3057125 , 0.        , 0.        , 0.        , 0.        ,\n",
       "        0.3057125 , 0.        , 0.        , 0.58259895, 0.        ,\n",
       "        0.        , 0.61660202, 0.        , 0.        , 0.3057125 ,\n",
       "        0.        , 0.        ],\n",
       "       [0.21419911, 0.        , 0.        , 0.        , 0.        ,\n",
       "        0.21419911, 0.62208507, 0.        , 0.40820109, 0.        ,\n",
       "        0.        , 0.43202552, 0.        , 0.        , 0.21419911,\n",
       "        0.34941696, 0.        ],\n",
       "       [0.21419911, 0.        , 0.        , 0.62208507, 0.        ,\n",
       "        0.21419911, 0.        , 0.        , 0.40820109, 0.        ,\n",
       "        0.        , 0.43202552, 0.        , 0.        , 0.21419911,\n",
       "        0.34941696, 0.        ],\n",
       "       [0.21419911, 0.        , 0.        , 0.        , 0.        ,\n",
       "        0.21419911, 0.        , 0.        , 0.40820109, 0.        ,\n",
       "        0.        , 0.43202552, 0.        , 0.62208507, 0.21419911,\n",
       "        0.34941696, 0.        ],\n",
       "       [0.21419911, 0.        , 0.        , 0.        , 0.        ,\n",
       "        0.21419911, 0.        , 0.        , 0.40820109, 0.        ,\n",
       "        0.        , 0.43202552, 0.        , 0.        , 0.21419911,\n",
       "        0.34941696, 0.62208507],\n",
       "       [0.3057125 , 0.        , 0.        , 0.        , 0.        ,\n",
       "        0.3057125 , 0.        , 0.61660202, 0.58259895, 0.        ,\n",
       "        0.        , 0.        , 0.        , 0.        , 0.3057125 ,\n",
       "        0.        , 0.        ],\n",
       "       [0.21419911, 0.        , 0.        , 0.        , 0.        ,\n",
       "        0.21419911, 0.62208507, 0.43202552, 0.40820109, 0.        ,\n",
       "        0.        , 0.        , 0.        , 0.        , 0.21419911,\n",
       "        0.34941696, 0.        ],\n",
       "       [0.21419911, 0.        , 0.        , 0.62208507, 0.        ,\n",
       "        0.21419911, 0.        , 0.43202552, 0.40820109, 0.        ,\n",
       "        0.        , 0.        , 0.        , 0.        , 0.21419911,\n",
       "        0.34941696, 0.        ],\n",
       "       [0.21419911, 0.        , 0.        , 0.        , 0.        ,\n",
       "        0.21419911, 0.        , 0.43202552, 0.40820109, 0.        ,\n",
       "        0.        , 0.        , 0.        , 0.62208507, 0.21419911,\n",
       "        0.34941696, 0.        ],\n",
       "       [0.21419911, 0.        , 0.        , 0.        , 0.        ,\n",
       "        0.21419911, 0.        , 0.43202552, 0.40820109, 0.        ,\n",
       "        0.        , 0.        , 0.        , 0.        , 0.21419911,\n",
       "        0.34941696, 0.62208507],\n",
       "       [0.23856755, 0.77312816, 0.        , 0.        , 0.48117506,\n",
       "        0.23856755, 0.        , 0.        , 0.        , 0.        ,\n",
       "        0.        , 0.        , 0.        , 0.        , 0.23856755,\n",
       "        0.        , 0.        ],\n",
       "       [0.23856755, 0.        , 0.        , 0.        , 0.48117506,\n",
       "        0.23856755, 0.        , 0.        , 0.        , 0.        ,\n",
       "        0.        , 0.        , 0.77312816, 0.        , 0.23856755,\n",
       "        0.        , 0.        ],\n",
       "       [0.1906894 , 0.        , 0.66052011, 0.        , 0.38460799,\n",
       "        0.1906894 , 0.        , 0.        , 0.        , 0.55380731,\n",
       "        0.        , 0.        , 0.        , 0.        , 0.1906894 ,\n",
       "        0.        , 0.        ],\n",
       "       [0.2539788 , 0.        , 0.        , 0.        , 0.51225854,\n",
       "        0.2539788 , 0.        , 0.        , 0.        , 0.73761474,\n",
       "        0.        , 0.        , 0.        , 0.        , 0.2539788 ,\n",
       "        0.        , 0.        ],\n",
       "       [0.29966392, 0.        , 0.        , 0.        , 0.60440243,\n",
       "        0.29966392, 0.        , 0.        , 0.        , 0.        ,\n",
       "        0.        , 0.60440243, 0.        , 0.        , 0.29966392,\n",
       "        0.        , 0.        ],\n",
       "       [0.21208686, 0.        , 0.        , 0.        , 0.42776525,\n",
       "        0.21208686, 0.61595059, 0.        , 0.        , 0.        ,\n",
       "        0.        , 0.42776525, 0.        , 0.        , 0.21208686,\n",
       "        0.3459713 , 0.        ],\n",
       "       [0.21208686, 0.        , 0.        , 0.61595059, 0.42776525,\n",
       "        0.21208686, 0.        , 0.        , 0.        , 0.        ,\n",
       "        0.        , 0.42776525, 0.        , 0.        , 0.21208686,\n",
       "        0.3459713 , 0.        ],\n",
       "       [0.21208686, 0.        , 0.        , 0.        , 0.42776525,\n",
       "        0.21208686, 0.        , 0.        , 0.        , 0.        ,\n",
       "        0.        , 0.42776525, 0.        , 0.61595059, 0.21208686,\n",
       "        0.3459713 , 0.        ],\n",
       "       [0.21208686, 0.        , 0.        , 0.        , 0.42776525,\n",
       "        0.21208686, 0.        , 0.        , 0.        , 0.        ,\n",
       "        0.        , 0.42776525, 0.        , 0.        , 0.21208686,\n",
       "        0.3459713 , 0.61595059],\n",
       "       [0.29966392, 0.        , 0.        , 0.        , 0.60440243,\n",
       "        0.29966392, 0.        , 0.60440243, 0.        , 0.        ,\n",
       "        0.        , 0.        , 0.        , 0.        , 0.29966392,\n",
       "        0.        , 0.        ],\n",
       "       [0.21208686, 0.        , 0.        , 0.        , 0.42776525,\n",
       "        0.21208686, 0.61595059, 0.42776525, 0.        , 0.        ,\n",
       "        0.        , 0.        , 0.        , 0.        , 0.21208686,\n",
       "        0.3459713 , 0.        ],\n",
       "       [0.21208686, 0.        , 0.        , 0.61595059, 0.42776525,\n",
       "        0.21208686, 0.        , 0.42776525, 0.        , 0.        ,\n",
       "        0.        , 0.        , 0.        , 0.        , 0.21208686,\n",
       "        0.3459713 , 0.        ],\n",
       "       [0.21208686, 0.        , 0.        , 0.        , 0.42776525,\n",
       "        0.21208686, 0.        , 0.42776525, 0.        , 0.        ,\n",
       "        0.        , 0.        , 0.        , 0.61595059, 0.21208686,\n",
       "        0.3459713 , 0.        ],\n",
       "       [0.21208686, 0.        , 0.        , 0.        , 0.42776525,\n",
       "        0.21208686, 0.        , 0.42776525, 0.        , 0.        ,\n",
       "        0.        , 0.        , 0.        , 0.        , 0.21208686,\n",
       "        0.3459713 , 0.61595059],\n",
       "       [0.21717614, 0.70380483, 0.        , 0.        , 0.        ,\n",
       "        0.21717614, 0.        , 0.        , 0.41387445, 0.        ,\n",
       "        0.43803   , 0.        , 0.        , 0.        , 0.21717614,\n",
       "        0.        , 0.        ],\n",
       "       [0.26022109, 0.        , 0.        , 0.        , 0.        ,\n",
       "        0.26022109, 0.        , 0.        , 0.49590558, 0.        ,\n",
       "        0.52484884, 0.52484884, 0.        , 0.        , 0.26022109,\n",
       "        0.        , 0.        ],\n",
       "       [0.21717614, 0.        , 0.        , 0.        , 0.43803   ,\n",
       "        0.21717614, 0.        , 0.        , 0.41387445, 0.        ,\n",
       "        0.        , 0.        , 0.70380483, 0.        , 0.21717614,\n",
       "        0.        , 0.        ],\n",
       "       [0.26022109, 0.        , 0.        , 0.        , 0.52484884,\n",
       "        0.26022109, 0.        , 0.52484884, 0.49590558, 0.        ,\n",
       "        0.        , 0.        , 0.        , 0.        , 0.26022109,\n",
       "        0.        , 0.        ]])"
      ]
     },
     "execution_count": 96,
     "metadata": {},
     "output_type": "execute_result"
    }
   ],
   "source": [
    "X"
   ]
  },
  {
   "cell_type": "markdown",
   "id": "c3e4e5b2",
   "metadata": {},
   "source": [
    "## ** user query **"
   ]
  },
  {
   "cell_type": "code",
   "execution_count": 97,
   "id": "b3a913ec",
   "metadata": {},
   "outputs": [],
   "source": [
    "# new = [\"what is product by region\"]\n",
    "new = [\"what is discount by state\"]\n",
    "# new = [\"what is discount by categories\"]\n",
    "# new = [\"what is sales by region\"]"
   ]
  },
  {
   "cell_type": "code",
   "execution_count": 98,
   "id": "a2733e32",
   "metadata": {},
   "outputs": [],
   "source": [
    "Y = vectorizer.transform(new).toarray()"
   ]
  },
  {
   "cell_type": "code",
   "execution_count": 99,
   "id": "55994cac",
   "metadata": {},
   "outputs": [
    {
     "data": {
      "text/plain": [
       "array([[0.23856755, 0.        , 0.        , 0.        , 0.48117506,\n",
       "        0.23856755, 0.        , 0.        , 0.        , 0.        ,\n",
       "        0.        , 0.        , 0.77312816, 0.        , 0.23856755,\n",
       "        0.        , 0.        ]])"
      ]
     },
     "execution_count": 99,
     "metadata": {},
     "output_type": "execute_result"
    }
   ],
   "source": [
    "Y"
   ]
  },
  {
   "cell_type": "code",
   "execution_count": 100,
   "id": "44eba556",
   "metadata": {},
   "outputs": [],
   "source": [
    "from scipy import spatial\n",
    "\n",
    "com1 = []\n",
    "for i in X:\n",
    "    dist_1 = spatial.distance.cosine(Y[0], i)\n",
    "    com1.append(dist_1)\n",
    "\n",
    "new1 = list(enumerate(com1, start=0))\n",
    "cos = sorted(new1, key=lambda x:x[1])"
   ]
  },
  {
   "cell_type": "code",
   "execution_count": 101,
   "id": "55dd3caa",
   "metadata": {},
   "outputs": [
    {
     "data": {
      "text/plain": [
       "('what is sales by region city',\n",
       " 'what is profit by region city',\n",
       " 'what is sales by order_date with year')"
      ]
     },
     "execution_count": 101,
     "metadata": {},
     "output_type": "execute_result"
    }
   ],
   "source": [
    "sentence[cos[-1][0]],sentence[cos[-2][0]],sentence[cos[-3][0]]"
   ]
  },
  {
   "cell_type": "code",
   "execution_count": 102,
   "id": "07ee5e90",
   "metadata": {},
   "outputs": [],
   "source": [
    "from scipy import spatial\n",
    "\n",
    "com1 = []\n",
    "for i in X:\n",
    "    dist_1 = spatial.distance.euclidean(Y[0], i)\n",
    "    com1.append(dist_1)\n",
    "\n",
    "new1 = list(enumerate(com1, start=0))\n",
    "cos = sorted(new1, key=lambda x:x[1])"
   ]
  },
  {
   "cell_type": "code",
   "execution_count": 103,
   "id": "c025a734",
   "metadata": {},
   "outputs": [
    {
     "data": {
      "text/plain": [
       "('what is discount by state',\n",
       " 'what is profit discount by state',\n",
       " 'what is profit by state')"
      ]
     },
     "execution_count": 103,
     "metadata": {},
     "output_type": "execute_result"
    }
   ],
   "source": [
    "sentence[cos[0][0]],sentence[cos[1][0]],sentence[cos[2][0]]"
   ]
  },
  {
   "cell_type": "markdown",
   "id": "4208dca2",
   "metadata": {},
   "source": [
    "## Output\n",
    "\n",
    "**Tfidf Vectorizer is giving the best possible result with euclidean distance. I have also tried cosine similarity but the most related 3 query is not nearby with user Query.** "
   ]
  },
  {
   "cell_type": "code",
   "execution_count": null,
   "id": "5c6561de",
   "metadata": {},
   "outputs": [],
   "source": []
  },
  {
   "cell_type": "code",
   "execution_count": null,
   "id": "5c23cec1",
   "metadata": {},
   "outputs": [],
   "source": []
  }
 ],
 "metadata": {
  "kernelspec": {
   "display_name": "Python 3 (ipykernel)",
   "language": "python",
   "name": "python3"
  },
  "language_info": {
   "codemirror_mode": {
    "name": "ipython",
    "version": 3
   },
   "file_extension": ".py",
   "mimetype": "text/x-python",
   "name": "python",
   "nbconvert_exporter": "python",
   "pygments_lexer": "ipython3",
   "version": "3.9.13"
  }
 },
 "nbformat": 4,
 "nbformat_minor": 5
}
